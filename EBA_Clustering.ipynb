{
  "cells": [
    {
      "cell_type": "code",
      "execution_count": null,
      "metadata": {
        "colab": {
          "base_uri": "https://localhost:8080/"
        },
        "id": "SeYS-S8rFFWU",
        "outputId": "26ee057c-e75f-4854-8f2e-4d9192d62e28"
      },
      "outputs": [
        {
          "name": "stdout",
          "output_type": "stream",
          "text": [
            "Mounted at /content/drive\n"
          ]
        }
      ],
      "source": [
        "import pandas as pd\n",
        "\n",
        "\n",
        "# Read the Excel file\n",
        "file_path = './jugadores.xlsx'\n",
        "df = pd.read_excel(file_path, sheet_name=None)\n",
        "\n",
        "frames = []\n",
        "for name, df in df.items():\n",
        "    frames.append(df)\n",
        "\n",
        "raw = pd.concat(frames, ignore_index=True)\n",
        "\n",
        "# Drop specified columns\n",
        "columns_to_drop = ['Fase', 'Jornada', 'IdPartido', 'Resultado', 'TITULARES', 'DORSALES']\n",
        "raw = raw.drop(columns=columns_to_drop)"
      ]
    },
    {
      "cell_type": "markdown",
      "metadata": {
        "id": "obRHyW8NLBOa"
      },
      "source": [
        "# EDA"
      ]
    },
    {
      "cell_type": "code",
      "execution_count": null,
      "metadata": {
        "colab": {
          "base_uri": "https://localhost:8080/"
        },
        "id": "YdVeD76WK-U-",
        "outputId": "6bdc3ffc-8bd8-4732-b2ab-908218c0e02c"
      },
      "outputs": [
        {
          "name": "stdout",
          "output_type": "stream",
          "text": [
            "Number of instances:  7469\n",
            "Number of features:  40\n"
          ]
        }
      ],
      "source": [
        "df = raw.copy()\n",
        "num_instances, num_features = df.shape\n",
        "print(\"Number of instances: \", num_instances)\n",
        "print(\"Number of features: \", num_features)"
      ]
    },
    {
      "cell_type": "code",
      "execution_count": null,
      "metadata": {
        "colab": {
          "base_uri": "https://localhost:8080/"
        },
        "id": "qWxvJOz3LFp_",
        "outputId": "ccc12e8f-583a-41f2-9051-59af1ed5e116"
      },
      "outputs": [
        {
          "name": "stdout",
          "output_type": "stream",
          "text": [
            "Tipos de variables:\n",
            "IdEquipo :  int64 -> numérico. || Missing values:  0\n",
            "Local :  object -> categórico. || Missing values:  0\n",
            "Rival :  object -> categórico. || Missing values:  0\n",
            "JUGADOR :  object -> categórico. || Missing values:  0\n",
            "MINUTOS JUGADOS :  float64 -> numérico. || Missing values:  0\n",
            "PUNTOS :  int64 -> numérico. || Missing values:  0\n",
            "T2 CONVERTIDO :  int64 -> numérico. || Missing values:  0\n",
            "T2 INTENTADO :  int64 -> numérico. || Missing values:  0\n",
            "T3 CONVERTIDO :  int64 -> numérico. || Missing values:  0\n",
            "T3 INTENTADO :  int64 -> numérico. || Missing values:  0\n",
            "TL CONVERTIDOS :  int64 -> numérico. || Missing values:  0\n",
            "TL INTENTADOS :  int64 -> numérico. || Missing values:  0\n",
            "REB OFFENSIVO :  int64 -> numérico. || Missing values:  0\n",
            "REB DEFENSIVO :  int64 -> numérico. || Missing values:  0\n",
            "ASISTENCIAS :  int64 -> numérico. || Missing values:  0\n",
            "RECUPEROS :  int64 -> numérico. || Missing values:  0\n",
            "PERDIDAS :  int64 -> numérico. || Missing values:  0\n",
            "FaltasCOMETIDAS :  int64 -> numérico. || Missing values:  0\n",
            "FaltasRECIBIDAS :  int64 -> numérico. || Missing values:  0\n",
            "PLAYS :  float64 -> numérico. || Missing values:  0\n",
            "PTS POR PLAYS :  float64 -> numérico. || Missing values:  0\n",
            "TCConvertido :  int64 -> numérico. || Missing values:  0\n",
            "TCIntentado :  int64 -> numérico. || Missing values:  0\n",
            "EFG% :  object -> categórico. || Missing values:  0\n",
            "TS% :  object -> categórico. || Missing values:  0\n",
            "TO% :  object -> categórico. || Missing values:  0\n",
            "Ratio TL :  object -> categórico. || Missing values:  0\n",
            "Produccion x cada TL Intentado :  float64 -> numérico. || Missing values:  0\n",
            "% pts por jugada viene de T1 :  object -> categórico. || Missing values:  0\n",
            "Produccion x cada T2 Intentado :  float64 -> numérico. || Missing values:  0\n",
            "%PTS X jugada viene TC2 :  object -> categórico. || Missing values:  0\n",
            "Produccion x cada T3 Intentado :  float64 -> numérico. || Missing values:  0\n",
            "%PTS Xjugada viene TC3 :  object -> categórico. || Missing values:  0\n",
            "%PLAYS termina en T1 :  float64 -> numérico. || Missing values:  0\n",
            "%PLAYS termina en T2 :  float64 -> numérico. || Missing values:  0\n",
            "%PLAYS termina en PERDIDA :  float64 -> numérico. || Missing values:  0\n",
            "%PLAYS termina en T3 :  float64 -> numérico. || Missing values:  0\n",
            "OE :  float64 -> numérico. || Missing values:  0\n",
            "Puntos Eficientes a partir de volumen anotador :  float64 -> numérico. || Missing values:  0\n",
            "Asistencia Por Plays :  float64 -> numérico. || Missing values:  0\n"
          ]
        },
        {
          "name": "stderr",
          "output_type": "stream",
          "text": [
            "/tmp/ipython-input-3-3173518943.py:6: FutureWarning: Series.__getitem__ treating keys as positions is deprecated. In a future version, integer keys will always be treated as labels (consistent with DataFrame behavior). To access a value by position, use `ser.iloc[pos]`\n",
            "  if variable_types[i] in ['float64', 'int64']:\n",
            "/tmp/ipython-input-3-3173518943.py:7: FutureWarning: Series.__getitem__ treating keys as positions is deprecated. In a future version, integer keys will always be treated as labels (consistent with DataFrame behavior). To access a value by position, use `ser.iloc[pos]`\n",
            "  print(columns[i], \": \", variable_types[i], \"-> numérico. || Missing values: \", missing_values[i])\n",
            "/tmp/ipython-input-3-3173518943.py:9: FutureWarning: Series.__getitem__ treating keys as positions is deprecated. In a future version, integer keys will always be treated as labels (consistent with DataFrame behavior). To access a value by position, use `ser.iloc[pos]`\n",
            "  print(columns[i], \": \", variable_types[i], \"-> categórico. || Missing values: \", missing_values[i])\n"
          ]
        }
      ],
      "source": [
        "variable_types = df.dtypes\n",
        "columns = df.columns\n",
        "missing_values = df.isnull().sum()\n",
        "print(\"Tipos de variables:\")\n",
        "for i in range(len(variable_types)):\n",
        "    if variable_types[i] in ['float64', 'int64']:\n",
        "        print(columns[i], \": \", variable_types[i], \"-> numérico. || Missing values: \", missing_values[i])\n",
        "    else:\n",
        "        print(columns[i], \": \", variable_types[i], \"-> categórico. || Missing values: \", missing_values[i])"
      ]
    },
    {
      "cell_type": "code",
      "execution_count": null,
      "metadata": {
        "colab": {
          "base_uri": "https://localhost:8080/"
        },
        "id": "dzZ8obuFLQ0h",
        "outputId": "139da0c7-c7f1-4985-8768-a1fd94fa9c0d"
      },
      "outputs": [
        {
          "name": "stdout",
          "output_type": "stream",
          "text": [
            "Index(['IdEquipo', 'Local', 'Rival', 'JUGADOR', 'MINUTOS JUGADOS', 'PUNTOS',\n",
            "       'T2 CONVERTIDO', 'T2 INTENTADO', 'T3 CONVERTIDO', 'T3 INTENTADO',\n",
            "       'TL CONVERTIDOS', 'TL INTENTADOS', 'REB OFFENSIVO', 'REB DEFENSIVO',\n",
            "       'ASISTENCIAS', 'RECUPEROS', 'PERDIDAS', 'FaltasCOMETIDAS',\n",
            "       'FaltasRECIBIDAS', 'PLAYS', 'PTS POR PLAYS', 'TCConvertido',\n",
            "       'TCIntentado', 'EFG%', 'TS%', 'TO%', 'Ratio TL',\n",
            "       'Produccion x cada TL Intentado', '% pts por jugada viene de T1',\n",
            "       'Produccion x cada T2 Intentado', '%PTS X jugada viene TC2',\n",
            "       'Produccion x cada T3 Intentado', '%PTS Xjugada viene TC3',\n",
            "       '%PLAYS termina en T1', '%PLAYS termina en T2',\n",
            "       '%PLAYS termina en PERDIDA', '%PLAYS termina en T3', 'OE',\n",
            "       'Puntos Eficientes a partir de volumen anotador',\n",
            "       'Asistencia Por Plays'],\n",
            "      dtype='object')\n",
            "Index(['IdEquipo', 'Local', 'Rival', 'JUGADOR', 'Min', 'Puntos', 'T2C', 'T2I',\n",
            "       'T3C', 'T3I', 'T1C', 'T1I', 'RO', 'RD', 'AS', 'ROB', 'PP', 'FC', 'FR',\n",
            "       'Plays', 'PPP', 'TCC', 'TCI', 'eFG%', 'TS%', 'TO%', 'RTL%', 'PPT1',\n",
            "       'PPPT1', 'PPT2', 'PPPT2', 'PPT3', 'PPPT3', 'F1 Plays%', 'F2 Plays%',\n",
            "       'PP Plays%', 'F3 Plays%', 'OE', 'EPS', 'AS%'],\n",
            "      dtype='object')\n"
          ]
        }
      ],
      "source": [
        "print(df.columns)\n",
        "import pandas as pd\n",
        "\n",
        "# Diccionario actualizado con 'Recuperos' como 'ROB'\n",
        "renombrado = {\n",
        "    'MINUTOS JUGADOS': 'Min',\n",
        "    'PUNTOS': 'Puntos',\n",
        "    'T2 CONVERTIDO': 'T2C',\n",
        "    'T2 INTENTADO': 'T2I',\n",
        "    'T3 CONVERTIDO': 'T3C',\n",
        "    'T3 INTENTADO': 'T3I',\n",
        "    'TL CONVERTIDOS': 'T1C',\n",
        "    'TL INTENTADOS': 'T1I',\n",
        "    'REB OFFENSIVO': 'RO',\n",
        "    'REB DEFENSIVO': 'RD',\n",
        "    'ASISTENCIAS': 'AS',\n",
        "    'RECUPEROS': 'ROB',\n",
        "    'PERDIDAS': 'PP',\n",
        "    'FaltasCOMETIDAS': 'FC',\n",
        "    'FaltasRECIBIDAS': 'FR',\n",
        "    'PLAYS': 'Plays',\n",
        "    'PTS POR PLAYS': 'PPP',\n",
        "    'TCConvertido': 'TCC',\n",
        "    'TCIntentado': 'TCI',\n",
        "    'EFG%': 'eFG%',\n",
        "    'TS%': 'TS%',\n",
        "    'TO%': 'TO%',\n",
        "    'Ratio TL': 'RTL%',\n",
        "    'Produccion x cada TL Intentado': 'PPT1',\n",
        "    '% pts por jugada viene de T1': 'PPPT1',\n",
        "    'Produccion x cada T2 Intentado': 'PPT2',\n",
        "    '%PTS X jugada viene TC2': 'PPPT2',\n",
        "    'Produccion x cada T3 Intentado': 'PPT3',\n",
        "    '%PTS Xjugada viene TC3': 'PPPT3',\n",
        "    '%PLAYS termina en T1': 'F1 Plays%',\n",
        "    '%PLAYS termina en T2': 'F2 Plays%',\n",
        "    '%PLAYS termina en T3': 'F3 Plays%',\n",
        "    '%PLAYS termina en PERDIDA': 'PP Plays%',\n",
        "    'OE': 'OE',\n",
        "    'Puntos Eficientes a partir de volumen anotador': 'EPS',\n",
        "    'Asistencia Por Plays': 'AS%',\n",
        "}\n",
        "\n",
        "# Aplicación al DataFrame\n",
        "df = df.rename(columns=renombrado)\n",
        "\n",
        "print(df.columns)"
      ]
    },
    {
      "cell_type": "code",
      "execution_count": null,
      "metadata": {
        "colab": {
          "base_uri": "https://localhost:8080/"
        },
        "id": "oNDY6lDZOkbd",
        "outputId": "e94477f1-0550-490a-e865-1224719cec4b"
      },
      "outputs": [
        {
          "name": "stdout",
          "output_type": "stream",
          "text": [
            "Columns remaining in DataFrame:\n",
            "Index(['IdEquipo', 'Local', 'Rival', 'JUGADOR', 'Min', 'Puntos', 'T2C', 'T2I',\n",
            "       'T3C', 'T3I', 'T1C', 'T1I', 'RO', 'RD', 'AS', 'ROB', 'PP', 'FC', 'FR'],\n",
            "      dtype='object')\n"
          ]
        }
      ],
      "source": [
        "columns_to_drop_after_rename = [\n",
        "    'Plays', 'PPP', 'TCC', 'TCI', 'eFG%', 'TS%', 'TO%', 'RTL%',\n",
        "    'PPT1', 'PPPT1', 'PPT2', 'PPPT2', 'PPT3', 'PPPT3',\n",
        "    'F1 Plays%', 'F2 Plays%', 'PP Plays%', 'F3 Plays%', 'OE',\n",
        "    'EPS', 'AS%'\n",
        "]\n",
        "\n",
        "df = df.drop(columns=columns_to_drop_after_rename)\n",
        "\n",
        "print(\"Columns remaining in DataFrame:\")\n",
        "print(df.columns)"
      ]
    },
    {
      "cell_type": "code",
      "execution_count": null,
      "metadata": {
        "colab": {
          "base_uri": "https://localhost:8080/"
        },
        "id": "j2opjrrRy8w3",
        "outputId": "4c39a7fd-343c-40e9-99e4-302e3c9c0240"
      },
      "outputs": [
        {
          "name": "stdout",
          "output_type": "stream",
          "text": [
            "Tipos de variables:\n",
            "IdEquipo :  int64 -> numérico. || Missing values:  0\n",
            "Local :  object -> categórico. || Missing values:  0\n",
            "Rival :  object -> categórico. || Missing values:  0\n",
            "JUGADOR :  object -> categórico. || Missing values:  0\n",
            "Min :  float64 -> numérico. || Missing values:  0\n",
            "Puntos :  int64 -> numérico. || Missing values:  0\n",
            "T2C :  int64 -> numérico. || Missing values:  0\n",
            "T2I :  int64 -> numérico. || Missing values:  0\n",
            "T3C :  int64 -> numérico. || Missing values:  0\n",
            "T3I :  int64 -> numérico. || Missing values:  0\n",
            "T1C :  int64 -> numérico. || Missing values:  0\n",
            "T1I :  int64 -> numérico. || Missing values:  0\n",
            "RO :  int64 -> numérico. || Missing values:  0\n",
            "RD :  int64 -> numérico. || Missing values:  0\n",
            "AS :  int64 -> numérico. || Missing values:  0\n",
            "ROB :  int64 -> numérico. || Missing values:  0\n",
            "PP :  int64 -> numérico. || Missing values:  0\n",
            "FC :  int64 -> numérico. || Missing values:  0\n",
            "FR :  int64 -> numérico. || Missing values:  0\n"
          ]
        },
        {
          "name": "stderr",
          "output_type": "stream",
          "text": [
            "/tmp/ipython-input-6-3173518943.py:6: FutureWarning: Series.__getitem__ treating keys as positions is deprecated. In a future version, integer keys will always be treated as labels (consistent with DataFrame behavior). To access a value by position, use `ser.iloc[pos]`\n",
            "  if variable_types[i] in ['float64', 'int64']:\n",
            "/tmp/ipython-input-6-3173518943.py:7: FutureWarning: Series.__getitem__ treating keys as positions is deprecated. In a future version, integer keys will always be treated as labels (consistent with DataFrame behavior). To access a value by position, use `ser.iloc[pos]`\n",
            "  print(columns[i], \": \", variable_types[i], \"-> numérico. || Missing values: \", missing_values[i])\n",
            "/tmp/ipython-input-6-3173518943.py:9: FutureWarning: Series.__getitem__ treating keys as positions is deprecated. In a future version, integer keys will always be treated as labels (consistent with DataFrame behavior). To access a value by position, use `ser.iloc[pos]`\n",
            "  print(columns[i], \": \", variable_types[i], \"-> categórico. || Missing values: \", missing_values[i])\n"
          ]
        }
      ],
      "source": [
        "variable_types = df.dtypes\n",
        "columns = df.columns\n",
        "missing_values = df.isnull().sum()\n",
        "print(\"Tipos de variables:\")\n",
        "for i in range(len(variable_types)):\n",
        "    if variable_types[i] in ['float64', 'int64']:\n",
        "        print(columns[i], \": \", variable_types[i], \"-> numérico. || Missing values: \", missing_values[i])\n",
        "    else:\n",
        "        print(columns[i], \": \", variable_types[i], \"-> categórico. || Missing values: \", missing_values[i])"
      ]
    },
    {
      "cell_type": "code",
      "execution_count": null,
      "metadata": {
        "colab": {
          "base_uri": "https://localhost:8080/"
        },
        "id": "mFSoxce2zJ7u",
        "outputId": "fc27f883-c10e-4df9-a6c0-f1de92073119"
      },
      "outputs": [
        {
          "name": "stdout",
          "output_type": "stream",
          "text": [
            "Column: IdEquipo\n",
            "Min value: 0\n",
            "Max value: 1\n",
            "------------------------------\n",
            "Column: Local\n",
            "Min value: BALONCESTO ALCALA\n",
            "Max value: ZENTRO BASKET MADRID\n",
            "------------------------------\n",
            "Column: Rival\n",
            "Min value: BALONCESTO ALCALA\n",
            "Max value: ZENTRO BASKET MADRID\n",
            "------------------------------\n",
            "Column: JUGADOR\n",
            "Min value: ABITBOL VIERA, MARIO\n",
            "Max value: ZURITA RUEDA, MARCOS\n",
            "------------------------------\n",
            "Column: Min\n",
            "Min value: 0.01666666666666667\n",
            "Max value: 42.33333333333334\n",
            "------------------------------\n",
            "Column: Puntos\n",
            "Min value: 0\n",
            "Max value: 36\n",
            "------------------------------\n",
            "Column: T2C\n",
            "Min value: 0\n",
            "Max value: 13\n",
            "------------------------------\n",
            "Column: T2I\n",
            "Min value: 0\n",
            "Max value: 20\n",
            "------------------------------\n",
            "Column: T3C\n",
            "Min value: 0\n",
            "Max value: 8\n",
            "------------------------------\n",
            "Column: T3I\n",
            "Min value: 0\n",
            "Max value: 16\n",
            "------------------------------\n",
            "Column: T1C\n",
            "Min value: 0\n",
            "Max value: 19\n",
            "------------------------------\n",
            "Column: T1I\n",
            "Min value: 0\n",
            "Max value: 23\n",
            "------------------------------\n",
            "Column: RO\n",
            "Min value: 0\n",
            "Max value: 11\n",
            "------------------------------\n",
            "Column: RD\n",
            "Min value: 0\n",
            "Max value: 17\n",
            "------------------------------\n",
            "Column: AS\n",
            "Min value: 0\n",
            "Max value: 13\n",
            "------------------------------\n",
            "Column: ROB\n",
            "Min value: 0\n",
            "Max value: 8\n",
            "------------------------------\n",
            "Column: PP\n",
            "Min value: 0\n",
            "Max value: 11\n",
            "------------------------------\n",
            "Column: FC\n",
            "Min value: 0\n",
            "Max value: 6\n",
            "------------------------------\n",
            "Column: FR\n",
            "Min value: 0\n",
            "Max value: 14\n",
            "------------------------------\n"
          ]
        }
      ],
      "source": [
        "for col in df.columns:\n",
        "    print(f\"Column: {col}\")\n",
        "    print(f\"Min value: {df[col].min()}\")\n",
        "    print(f\"Max value: {df[col].max()}\")\n",
        "    print(\"-\" * 30)"
      ]
    },
    {
      "cell_type": "code",
      "execution_count": null,
      "metadata": {
        "colab": {
          "base_uri": "https://localhost:8080/"
        },
        "id": "FNOulG5K0MMT",
        "outputId": "3823e394-e6f5-482f-d72a-149f9915e54c"
      },
      "outputs": [
        {
          "name": "stdout",
          "output_type": "stream",
          "text": [
            "Columnas con valores faltantes:\n",
            "No hay columnas con valores faltantes\n",
            "Columnas constantes:\n",
            "No hay columnas constantes\n",
            "Filas duplicadas:  0\n",
            "Filas vacías:  0\n"
          ]
        }
      ],
      "source": [
        "# Mostrar columnas con valores faltantes\n",
        "print(\"Columnas con valores faltantes:\")\n",
        "if missing_values.sum() == 0:\n",
        "    print(\"No hay columnas con valores faltantes\")\n",
        "else:\n",
        "    for col in columns:\n",
        "        if missing_values[col] > 0:\n",
        "            print(col, \": \", missing_values[col])\n",
        "\n",
        "# Columnas constantes\n",
        "constant_columns = df.columns[df.nunique() == 1]\n",
        "print(\"Columnas constantes:\")\n",
        "if len(constant_columns) == 0:\n",
        "    print(\"No hay columnas constantes\")\n",
        "else:\n",
        "    for col in constant_columns:\n",
        "        print(col)\n",
        "\n",
        "# Filas duplicadas\n",
        "duplicated_rows = df.duplicated()\n",
        "print(\"Filas duplicadas: \", duplicated_rows.sum())\n",
        "\n",
        "# Filas vacías\n",
        "empty_rows = df.isnull().all(axis=1)\n",
        "print(\"Filas vacías: \", empty_rows.sum())"
      ]
    },
    {
      "cell_type": "code",
      "execution_count": null,
      "metadata": {
        "colab": {
          "base_uri": "https://localhost:8080/"
        },
        "id": "wYuS80NDKsTc",
        "outputId": "79307f90-ba74-4155-8823-ea0ed648d1e6"
      },
      "outputs": [
        {
          "name": "stdout",
          "output_type": "stream",
          "text": [
            "Index(['IdEquipo', 'Local', 'Rival', 'JUGADOR', 'Min', 'Puntos', 'T2C', 'T2I',\n",
            "       'T3C', 'T3I', 'T1C', 'T1I', 'RO', 'RD', 'AS', 'ROB', 'PP', 'FC', 'FR'],\n",
            "      dtype='object')\n"
          ]
        }
      ],
      "source": [
        "print(df.columns)"
      ]
    },
    {
      "cell_type": "code",
      "execution_count": null,
      "metadata": {
        "colab": {
          "base_uri": "https://localhost:8080/"
        },
        "id": "oQn_cUal6ftx",
        "outputId": "fb16bd79-4e01-4318-ce98-9ac9b58250bf"
      },
      "outputs": [
        {
          "name": "stdout",
          "output_type": "stream",
          "text": [
            "Index(['IdEquipo', 'Local', 'Rival', 'JUGADOR', 'Min', 'Puntos', 'T2C', 'T2I',\n",
            "       'T3C', 'T3I', 'T1C', 'T1I', 'RO', 'RD', 'AS', 'ROB', 'PP', 'FC', 'FR'],\n",
            "      dtype='object')\n"
          ]
        }
      ],
      "source": [
        "num_cols = ['Puntos','T2C','T2I','T3C','T3I','T1C','T1I','RO','RD',\n",
        "            'AS','ROB','PP','FC','FR']\n",
        "df[num_cols] = df[num_cols].apply(pd.to_numeric, errors='coerce').fillna(0)\n",
        "print(df.columns)"
      ]
    },
    {
      "cell_type": "code",
      "execution_count": null,
      "metadata": {
        "colab": {
          "base_uri": "https://localhost:8080/"
        },
        "id": "kG_39h5V94Nt",
        "outputId": "65b95eab-95f5-4327-f4b6-efcad7fffc0a"
      },
      "outputs": [
        {
          "name": "stdout",
          "output_type": "stream",
          "text": [
            "(362, 46)\n"
          ]
        },
        {
          "name": "stderr",
          "output_type": "stream",
          "text": [
            "/tmp/ipython-input-11-32982072.py:54: FutureWarning: Downcasting object dtype arrays on .fillna, .ffill, .bfill is deprecated and will change in a future version. Call result.infer_objects(copy=False) instead. To opt-in to the future behavior, set `pd.set_option('future.no_silent_downcasting', True)`\n",
            "  g = g.fillna(0)\n"
          ]
        }
      ],
      "source": [
        "# --- 3. AGGREGATE TO SEASON LINE ------------------------------------------ #\n",
        "g = df.groupby('JUGADOR', as_index=False).agg(\n",
        "        {c: 'sum' for c in num_cols}    # sum all your numeric cols…\n",
        "        | {'Min': 'sum'}                # …and sum Min…\n",
        "        | {'Local': 'first'}            # …but take the first Local\n",
        "    )      # totals\n",
        "\n",
        "# --- 3b. ADD GAME COUNT & FILTER < 6 GAMES ---------------------- #\n",
        "g['G'] = df.groupby('JUGADOR').size().values   # number of rows per player\n",
        "\n",
        "g = g[g['G'] >= 6].reset_index(drop=True)      # keep only ≥ 6 games\n",
        "\n",
        "# helper: per‑100 plays\n",
        "per100 = lambda x,y: (x / y.replace(0, pd.NA))\n",
        "\n",
        "g['Min%']      = g['Min'] / g['G']\n",
        "g['Plays']     = g['T1I']*0.44 + g['T2I'] + g['T3I'] + g['PP']\n",
        "g['PPP']       = per100(g['Puntos'], g['Plays'])\n",
        "g['RO_100']    = per100(g['RO'],     g['Plays'])\n",
        "g['RD_100']    = per100(g['RD'],     g['Plays'])\n",
        "g['AS_100']    = per100(g['AS'],     g['Plays'])\n",
        "g['ROB_100']   = per100(g['ROB'],    g['Plays'])\n",
        "g['TO_100']    = per100(g['PP'],     g['Plays'])\n",
        "g['FC_100']    = per100(g['FC'],     g['Plays'])\n",
        "g['FR_100']    = per100(g['FR'],     g['Plays'])\n",
        "g['TCC']       = g['T2C'] + g['T3C']\n",
        "g['TCI']       = g['T2I'] + g['T3I']\n",
        "\n",
        "\n",
        "# --- 4. ADVANCED METRICS FROM TOTALS ----- #\n",
        "g['eFG']  = g['TCC'] + 0.5*g['T3C'] / g['TCI'].replace(0, pd.NA)\n",
        "g['TS']   = g['Puntos'] / (2 * (g['TCI'] + 0.44 * g['T1I']).replace(0,pd.NA))\n",
        "\n",
        "g['RTL'] = g['T1I'] / g['Plays'].replace(0, pd.NA)\n",
        "\n",
        "g['PPT1'] = g['T1C'] / g['T1I'].replace(0, pd.NA)\n",
        "g['PPT2'] = g['T2C']*2 / g['T2I'].replace(0, pd.NA)\n",
        "g['PPT3'] = g['T3C']*3 / g['T3I'].replace(0, pd.NA)\n",
        "\n",
        "g['PPPT1']   = (g['T1C'] / g['Plays'].replace(0, pd.NA)) / g['PPP'].replace(0, pd.NA)\n",
        "g['PPPT2']   = (g['T2C']*2 / g['Plays'].replace(0, pd.NA)) / g['PPP'].replace(0, pd.NA)\n",
        "g['PPPT3']   = (g['T3C']*3 / g['Plays'].replace(0, pd.NA)) / g['PPP'].replace(0, pd.NA)\n",
        "\n",
        "g['F1 Plays%'] = g['T1I']*0.44 / g['Plays'].replace(0, pd.NA)\n",
        "g['F2 Plays%'] = g['T2I'] / g['Plays'].replace(0, pd.NA)\n",
        "g['F3 Plays%'] = g['T3I'] / g['Plays'].replace(0, pd.NA)\n",
        "g['PP Plays%'] = g['PP'] / g['Plays'].replace(0, pd.NA)\n",
        "\n",
        "g['PS%'] = (((g['TCC'] + (1 - (1 - g['T1C']/g['T1I'])**2)*0.44*g['T1I']).where(g['TCC']!=0, 0)\n",
        "             / g['Plays']).fillna(0))\n",
        "g['OE']   = (g['TCC'] + g['AS']) / (g['TCI'] - g['RO'] + g['AS'] + g['PP']).replace(0, pd.NA)\n",
        "g['EPS']  = g['Puntos'] * g['OE']\n",
        "\n",
        "g = g.fillna(0)\n",
        "\n",
        "print(g.shape)"
      ]
    },
    {
      "cell_type": "code",
      "execution_count": null,
      "metadata": {
        "colab": {
          "base_uri": "https://localhost:8080/"
        },
        "id": "ApB1ZJucBA9V",
        "outputId": "cdf5667a-ca98-4a74-96db-a6090dd3c1cc"
      },
      "outputs": [
        {
          "name": "stdout",
          "output_type": "stream",
          "text": [
            "         Local  team_MP  team_T2I  team_T3I  team_FTA  team_TOV  team_FGA\n",
            "0  C.B. GETAFE     5250       878       873       434       350      1751\n"
          ]
        }
      ],
      "source": [
        "# 1. Load your player‐season DataFrame `g` (from your existing aggregation code)\n",
        "#    and the team‐games file from Drive:\n",
        "equipos_file = \"/content/drive/MyDrive/equipos.xlsx\"\n",
        "team_sheets = [\"EBA BB Totals\", \"EBA BA Totals\"]\n",
        "\n",
        "# 2. Build a single DataFrame of season‐long team totals:\n",
        "team_totals_list = []\n",
        "for sheet in team_sheets:\n",
        "    df_team = pd.read_excel(equipos_file, sheet_name=sheet)\n",
        "    # sum across all games per team\n",
        "    agg = (\n",
        "        df_team\n",
        "        .groupby([\"Local\"], as_index=False)\n",
        "        .agg({\n",
        "            \"MINUTOS JUGADOS\": \"sum\",\n",
        "            \"T2 INTENTADO\":   \"sum\",\n",
        "            \"T3 INTENTADO\":   \"sum\",\n",
        "            \"TL INTENTADOS\":  \"sum\",\n",
        "            \"PERDIDAS\":       \"sum\",\n",
        "        })\n",
        "        .rename(columns={\n",
        "            \"MINUTOS JUGADOS\": \"team_MP\",\n",
        "            \"T2 INTENTADO\":    \"team_T2I\",\n",
        "            \"T3 INTENTADO\":    \"team_T3I\",\n",
        "            \"TL INTENTADOS\":   \"team_FTA\",\n",
        "            \"PERDIDAS\":        \"team_TOV\",\n",
        "        })\n",
        "    )\n",
        "    # possessions components\n",
        "    agg[\"team_FGA\"] = agg[\"team_T2I\"] + agg[\"team_T3I\"]\n",
        "    team_totals_list.append(agg)\n",
        "\n",
        "team_totals = pd.concat(team_totals_list, ignore_index=True)\n",
        "\n",
        "print(team_totals.head(1))\n",
        "\n",
        "# 3. Merge season team totals into your player‐season DataFrame `g`\n",
        "g = g.merge(\n",
        "    team_totals[[\"Local\",\"team_MP\",\"team_FGA\",\"team_FTA\",\"team_TOV\"]],\n",
        "    on=[\"Local\"],\n",
        "    how=\"left\"\n",
        ")\n",
        "\n",
        "# 4. Compute season USG%\n",
        "#    player_FGA = T2I + T3I\n",
        "#    player_FTA = T1I\n",
        "#    player_TOV = PP\n",
        "num = ( (g[\"T2I\"] + g[\"T3I\"]) + 0.44 * g[\"T1I\"] + g[\"PP\"] ) * (g[\"team_MP\"] / 5)\n",
        "den = g[\"Min\"] * ( g[\"team_FGA\"] + 0.44 * g[\"team_FTA\"] + g[\"team_TOV\"] )\n",
        "g[\"USG%\"] = num / den\n",
        "\n",
        "# 5. (Optional) fill NaNs or format\n",
        "g[\"USG%\"] = g[\"USG%\"].fillna(0)\n",
        "\n",
        "# 6. Now `g` has a new column `USG%` with each player's season usage percentage.\n"
      ]
    },
    {
      "cell_type": "code",
      "execution_count": null,
      "metadata": {
        "colab": {
          "base_uri": "https://localhost:8080/"
        },
        "id": "R2wpDrfs96pD",
        "outputId": "5abb0297-2ebb-4c3c-b9df-c06bd8fa06f0"
      },
      "outputs": [
        {
          "name": "stdout",
          "output_type": "stream",
          "text": [
            "{'JUGADOR': 'FROLOV, ILIA', 'Puntos': 163, 'T2C': 52, 'T2I': 97, 'T3C': 9, 'T3I': 36, 'T1C': 32, 'T1I': 52, 'RO': 52, 'RD': 99, 'AS': 21, 'ROB': 13, 'PP': 32, 'FC': 32, 'FR': 46, 'Min': 388.3666666666667, 'Local': 'REAL MADRID', 'G': 19, 'Min%': 20.440350877192984, 'Plays': 187.88, 'PPP': 0.8675750479029167, 'RO_100': 0.2767724079199489, 'RD_100': 0.5269320843091335, 'AS_100': 0.11177347242921014, 'ROB_100': 0.06919310197998722, 'TO_100': 0.17032148179689163, 'FC_100': 0.17032148179689163, 'FR_100': 0.24483713008303173, 'TCC': 61, 'TCI': 133, 'eFG': 61.03383458646616, 'TS': 0.5228380805748012, 'RTL': 0.2767724079199489, 'PPT1': 0.6153846153846154, 'PPT2': 1.0721649484536082, 'PPT3': 0.75, 'PPPT1': 0.19631901840490798, 'PPPT2': 0.6380368098159509, 'PPPT3': 0.1656441717791411, 'F1 Plays%': 0.12177985948477751, 'F2 Plays%': 0.5162869916968278, 'F3 Plays%': 0.1916116670215031, 'PP Plays%': 0.17032148179689163, 'PS%': 0.4284404120469694, 'OE': 0.6119402985074627, 'EPS': 99.74626865671641, 'team_MP': 5050, 'team_FGA': 1586, 'team_FTA': 549, 'team_TOV': 347, 'USG%': 0.2246925032387848}\n"
          ]
        }
      ],
      "source": [
        "# Show for FROLOV, ILIA == JUGADOR\n",
        "print(g[g['JUGADOR'] == 'FROLOV, ILIA'].iloc[0].to_dict())"
      ]
    },
    {
      "cell_type": "code",
      "execution_count": null,
      "metadata": {
        "colab": {
          "base_uri": "https://localhost:8080/"
        },
        "id": "Rcmf3BE-FTE9",
        "outputId": "5a755d28-c0ac-468e-ea00-b285e0084b3b"
      },
      "outputs": [
        {
          "name": "stdout",
          "output_type": "stream",
          "text": [
            "Top three players per USG:\n",
            "                              JUGADOR      USG%\n",
            "175                     KRISPIN, LIAM  0.323889\n",
            "160              HUELVES GARCIA, ANDY  0.316657\n",
            "134  GONZALEZ CAMEJO, EUDALDO IMOBACH  0.309766\n",
            "\n",
            "Top three players per PS%:\n",
            "                    JUGADOR       PS%\n",
            "250  PARADELA PARIS, SERGIO  0.623482\n",
            "178     LANDOURE, MAHAMADOU  0.621661\n",
            "201   MARCIEL, ERIC RICHARD  0.545343\n"
          ]
        }
      ],
      "source": [
        "# Top three players per USG and pero PS%\n",
        "top_usg = g.sort_values('USG%', ascending=False).head(3)\n",
        "top_ps = g.sort_values('PS%', ascending=False).head(3)\n",
        "\n",
        "print(\"Top three players per USG:\")\n",
        "print(top_usg[['JUGADOR', 'USG%']])\n",
        "\n",
        "print(\"\\nTop three players per PS%:\")\n",
        "print(top_ps[['JUGADOR', 'PS%']])"
      ]
    },
    {
      "cell_type": "code",
      "execution_count": null,
      "metadata": {
        "id": "3I_LjOCDBOz8"
      },
      "outputs": [],
      "source": [
        "from sklearn.preprocessing import StandardScaler\n",
        "from sklearn.decomposition import PCA\n",
        "\n",
        "feature_cols = [\n",
        "    # scoring & efficiency\n",
        "    'PPP','eFG','TS', 'OE', 'EPS', 'USG%', 'PS%', 'RTL',\n",
        "    'F1 Plays%','F2 Plays%','F3 Plays%','PP Plays%',\n",
        "    'PPPT1','PPPT2','PPPT3',\n",
        "    'PPT1', 'PPT2', 'PPT3',\n",
        "    # playmaking & ball‑security\n",
        "    'AS_100','TO_100',\n",
        "    # rebounding & steals\n",
        "    'RO_100','RD_100','ROB_100',\n",
        "    # discipline (faltas cometidas y recibidas)\n",
        "    'FC_100','FR_100'\n",
        "]\n",
        "\n",
        "df_feats = g[feature_cols].copy()"
      ]
    },
    {
      "cell_type": "code",
      "execution_count": null,
      "metadata": {
        "colab": {
          "base_uri": "https://localhost:8080/"
        },
        "id": "TJL6pGULIOM9",
        "outputId": "d1801b7e-28e7-46bf-dfa4-a0ef80d509d1"
      },
      "outputs": [
        {
          "name": "stdout",
          "output_type": "stream",
          "text": [
            "X_pca shape: (362, 7)\n"
          ]
        }
      ],
      "source": [
        "from sklearn.preprocessing import StandardScaler\n",
        "from sklearn.decomposition import PCA\n",
        "\n",
        "# 1) Scale your features\n",
        "scaler = StandardScaler()\n",
        "X_std = scaler.fit_transform(df_feats)\n",
        "\n",
        "# 2) Run PCA to capture ~90% of the variance\n",
        "pca = PCA(n_components=0.90, random_state=0)\n",
        "X_pca = pca.fit_transform(X_std)\n",
        "\n",
        "print(\"X_pca shape:\", X_pca.shape)"
      ]
    },
    {
      "cell_type": "code",
      "execution_count": null,
      "metadata": {
        "colab": {
          "base_uri": "https://localhost:8080/",
          "height": 428
        },
        "id": "9haZ4O4BIIDN",
        "outputId": "9c132aea-c3b8-4018-ec1a-36c68fba21b4"
      },
      "outputs": [
        {
          "data": {
            "image/png": "[encoded data removed]",
            "text/plain": [
              "<Figure size 800x400 with 1 Axes>"
            ]
          },
          "metadata": {},
          "output_type": "display_data"
        },
        {
          "name": "stdout",
          "output_type": "stream",
          "text": [
            "▶ k óptimo según silhouette: 3\n"
          ]
        }
      ],
      "source": [
        "from sklearn.cluster import KMeans\n",
        "from sklearn.metrics import silhouette_score\n",
        "import matplotlib.pyplot as plt\n",
        "\n",
        "# Rango de k a probar\n",
        "ks = range(2, 11)\n",
        "sil_scores = []\n",
        "\n",
        "for k in ks:\n",
        "    labels = KMeans(n_clusters=k, random_state=0).fit_predict(X_pca)\n",
        "    sil = silhouette_score(X_pca, labels)\n",
        "    sil_scores.append(sil)\n",
        "\n",
        "# Gráfica\n",
        "plt.figure(figsize=(8,4))\n",
        "plt.plot(ks, sil_scores, marker='o')\n",
        "plt.xticks(ks)\n",
        "plt.title(\"Silhouette media vs número de clusters\")\n",
        "plt.xlabel(\"Número de clusters (k)\")\n",
        "plt.ylabel(\"Silhouette score\")\n",
        "plt.grid(True)\n",
        "plt.show()\n",
        "\n",
        "best_k = ks[sil_scores.index(max(sil_scores))]\n",
        "print(f\"▶ k óptimo según silhouette: {best_k}\")\n"
      ]
    },
    {
      "cell_type": "code",
      "execution_count": null,
      "metadata": {
        "colab": {
          "base_uri": "https://localhost:8080/",
          "height": 564
        },
        "id": "Avo6zdu2Iqyw",
        "outputId": "a5d362ec-c3c1-4f1c-a241-db1d4c6c0c7d"
      },
      "outputs": [
        {
          "data": {
            "image/png": "[encoded data removed]",
            "text/plain": [
              "<Figure size 800x600 with 1 Axes>"
            ]
          },
          "metadata": {},
          "output_type": "display_data"
        }
      ],
      "source": [
        "from sklearn.cluster import KMeans\n",
        "from sklearn.metrics import silhouette_samples\n",
        "import numpy as np\n",
        "import matplotlib.pyplot as plt\n",
        "\n",
        "# Usa el k que detectamos arriba\n",
        "labels = KMeans(n_clusters=best_k, random_state=0).fit_predict(X_pca)\n",
        "sil_vals = silhouette_samples(X_pca, labels)\n",
        "\n",
        "fig, ax = plt.subplots(figsize=(8,6))\n",
        "y_lower = 10\n",
        "\n",
        "for i in range(best_k):\n",
        "    # Ordenamos los valores de silueta de ese cluster\n",
        "    c_sil = np.sort(sil_vals[labels == i])\n",
        "    size = c_sil.shape[0]\n",
        "    y_upper = y_lower + size\n",
        "\n",
        "    color = plt.cm.nipy_spectral(i / best_k)\n",
        "    ax.fill_betweenx(np.arange(y_lower, y_upper),\n",
        "                     0, c_sil,\n",
        "                     facecolor=color, edgecolor=color, alpha=0.7)\n",
        "    ax.text(-0.02, y_lower + 0.5 * size, str(i))\n",
        "    y_lower = y_upper + 10  # espacio entre clusters\n",
        "\n",
        "ax.set_title(f\"Silhouette plot (k = {best_k})\")\n",
        "ax.set_xlabel(\"Coeficiente de silhouette\")\n",
        "ax.set_ylabel(\"Cluster\")\n",
        "ax.axvline(x=silhouette_score(X_pca, labels), color=\"red\", linestyle=\"--\")\n",
        "ax.set_yticks([])\n",
        "plt.show()\n"
      ]
    },
    {
      "cell_type": "code",
      "execution_count": null,
      "metadata": {
        "colab": {
          "base_uri": "https://localhost:8080/"
        },
        "id": "WdN2sQtvJQnc",
        "outputId": "4a816449-4148-42c3-8245-a327a174cd40"
      },
      "outputs": [
        {
          "name": "stderr",
          "output_type": "stream",
          "text": [
            "/usr/local/lib/python3.11/dist-packages/umap/umap_.py:1952: UserWarning: n_jobs value 1 overridden to 1 by setting random_state. Use no seed for parallelism.\n",
            "  warn(\n"
          ]
        },
        {
          "name": "stdout",
          "output_type": "stream",
          "text": [
            "UMAP1/UMAP2 añadidas. Primeros 5 valores:\n",
            "      UMAP1     UMAP2\n",
            "0  3.657148  4.565655\n",
            "1  6.316878  0.570999\n",
            "2  4.577855  4.236728\n",
            "3  7.345784  2.418749\n",
            "4  4.139880 -0.178021\n"
          ]
        }
      ],
      "source": [
        "# 1) Escalado + PCA (vuelvo a incluir por si falta)\n",
        "from sklearn.preprocessing import StandardScaler\n",
        "from sklearn.decomposition import PCA\n",
        "\n",
        "scaler = StandardScaler()\n",
        "X_std = scaler.fit_transform(df_feats)\n",
        "\n",
        "pca = PCA(n_components=0.90, random_state=0)\n",
        "X_pca = pca.fit_transform(X_std)\n",
        "\n",
        "# 2) UMAP a 2 dimensiones\n",
        "import umap\n",
        "umap2d = umap.UMAP(n_neighbors=15, min_dist=0.1, random_state=0)\n",
        "X_2d   = umap2d.fit_transform(X_pca)\n",
        "\n",
        "# 3) Añade las coordenadas al DataFrame g\n",
        "g['UMAP1'] = X_2d[:,0]\n",
        "g['UMAP2'] = X_2d[:,1]\n",
        "\n",
        "print(\"UMAP1/UMAP2 añadidas. Primeros 5 valores:\")\n",
        "print(g[['UMAP1','UMAP2']].head())\n"
      ]
    },
    {
      "cell_type": "code",
      "execution_count": null,
      "metadata": {
        "colab": {
          "base_uri": "https://localhost:8080/"
        },
        "id": "8nuTTVQlOewS",
        "outputId": "b7390744-9c2d-4efa-f6bc-5d653a81f14d"
      },
      "outputs": [
        {
          "name": "stdout",
          "output_type": "stream",
          "text": [
            "         sil        db         ch        method          param\n",
            "15  0.258514  1.189913  30.280178        DBSCAN  eps=1.5,ms=10\n",
            "4   0.228694  1.815091  76.969669  Hierarchical              2\n",
            "1   0.201782  1.223088  56.961297        KMeans              3\n",
            "0   0.200529  1.749793  92.357490        KMeans              2\n",
            "2   0.187924  1.205214  67.423239        KMeans              4\n",
            "6   0.166687  1.563748  70.427862  Hierarchical              4\n",
            "7   0.162077  1.649072  63.086019  Hierarchical              5\n",
            "5   0.150530  1.745142  73.315084  Hierarchical              3\n",
            "3   0.136599  1.344770  62.510067        KMeans              5\n",
            "14  0.112592  0.911669   8.379169        DBSCAN   eps=1.5,ms=5\n",
            "         sil        db         ch        method          param\n",
            "15  0.258514  1.189913  30.280178        DBSCAN  eps=1.5,ms=10\n",
            "4   0.228694  1.815091  76.969669  Hierarchical              2\n",
            "1   0.201782  1.223088  56.961297        KMeans              3\n",
            "0   0.200529  1.749793  92.357490        KMeans              2\n",
            "2   0.187924  1.205214  67.423239        KMeans              4\n",
            "6   0.166687  1.563748  70.427862  Hierarchical              4\n",
            "7   0.162077  1.649072  63.086019  Hierarchical              5\n",
            "5   0.150530  1.745142  73.315084  Hierarchical              3\n",
            "3   0.136599  1.344770  62.510067        KMeans              5\n",
            "14  0.112592  0.911669   8.379169        DBSCAN   eps=1.5,ms=5\n"
          ]
        }
      ],
      "source": [
        "from sklearn.cluster import KMeans, AgglomerativeClustering, DBSCAN\n",
        "from sklearn.metrics import silhouette_score, davies_bouldin_score, calinski_harabasz_score\n",
        "import numpy as np\n",
        "\n",
        "def evaluate(labels, X):\n",
        "    # filtra puntos “ruidosos” si DBSCAN devuelve -1\n",
        "    mask = labels != -1\n",
        "    if len(np.unique(labels[mask])) < 2:\n",
        "        return {'sil': np.nan, 'db': np.nan, 'ch': np.nan}\n",
        "    return {\n",
        "      'sil': silhouette_score(X[mask], labels[mask]),\n",
        "      'db':  davies_bouldin_score(X[mask], labels[mask]),\n",
        "      'ch':  calinski_harabasz_score(X[mask], labels[mask])\n",
        "    }\n",
        "\n",
        "results = []\n",
        "\n",
        "# 1) KMeans para distintos k\n",
        "for k in [2,3,4,5]:\n",
        "    lbl = KMeans(n_clusters=k, random_state=0).fit_predict(X_pca)\n",
        "    res = evaluate(lbl, X_pca)\n",
        "    res.update({'method':'KMeans','param':k})\n",
        "    results.append(res)\n",
        "\n",
        "# 2) Jerárquico (ward linkage) para los mismos k\n",
        "for k in [2,3,4,5]:\n",
        "    lbl = AgglomerativeClustering(n_clusters=k, linkage='ward').fit_predict(X_pca)\n",
        "    res = evaluate(lbl, X_pca)\n",
        "    res.update({'method':'Hierarchical','param':k})\n",
        "    results.append(res)\n",
        "\n",
        "# 3) DBSCAN barrido rápido\n",
        "for eps in [0.5, 1.0, 1.5, 2.0]:\n",
        "    for ms in [5, 10, 15]:\n",
        "        lbl = DBSCAN(eps=eps, min_samples=ms).fit_predict(X_pca)\n",
        "        res = evaluate(lbl, X_pca)\n",
        "        res.update({'method':'DBSCAN', 'param':f'eps={eps},ms={ms}'})\n",
        "        results.append(res)\n",
        "\n",
        "import pandas as pd\n",
        "df_eval = pd.DataFrame(results)\n",
        "print(df_eval.sort_values('sil', ascending=False).head(10))\n",
        "from sklearn.cluster import KMeans, AgglomerativeClustering, DBSCAN\n",
        "from sklearn.metrics import silhouette_score, davies_bouldin_score, calinski_harabasz_score\n",
        "import numpy as np\n",
        "\n",
        "def evaluate(labels, X):\n",
        "    # filtra puntos “ruidosos” si DBSCAN devuelve -1\n",
        "    mask = labels != -1\n",
        "    if len(np.unique(labels[mask])) < 2:\n",
        "        return {'sil': np.nan, 'db': np.nan, 'ch': np.nan}\n",
        "    return {\n",
        "      'sil': silhouette_score(X[mask], labels[mask]),\n",
        "      'db':  davies_bouldin_score(X[mask], labels[mask]),\n",
        "      'ch':  calinski_harabasz_score(X[mask], labels[mask])\n",
        "    }\n",
        "\n",
        "results = []\n",
        "\n",
        "# 1) KMeans para distintos k\n",
        "for k in [2,3,4,5]:\n",
        "    lbl = KMeans(n_clusters=k, random_state=0).fit_predict(X_pca)\n",
        "    res = evaluate(lbl, X_pca)\n",
        "    res.update({'method':'KMeans','param':k})\n",
        "    results.append(res)\n",
        "\n",
        "# 2) Jerárquico (ward linkage) para los mismos k\n",
        "for k in [2,3,4,5]:\n",
        "    lbl = AgglomerativeClustering(n_clusters=k, linkage='ward').fit_predict(X_pca)\n",
        "    res = evaluate(lbl, X_pca)\n",
        "    res.update({'method':'Hierarchical','param':k})\n",
        "    results.append(res)\n",
        "\n",
        "# 3) DBSCAN barrido rápido\n",
        "for eps in [0.5, 1.0, 1.5, 2.0]:\n",
        "    for ms in [5, 10, 15]:\n",
        "        lbl = DBSCAN(eps=eps, min_samples=ms).fit_predict(X_pca)\n",
        "        res = evaluate(lbl, X_pca)\n",
        "        res.update({'method':'DBSCAN', 'param':f'eps={eps},ms={ms}'})\n",
        "        results.append(res)\n",
        "\n",
        "import pandas as pd\n",
        "df_eval = pd.DataFrame(results)\n",
        "print(df_eval.sort_values('sil', ascending=False).head(10))\n"
      ]
    },
    {
      "cell_type": "code",
      "execution_count": null,
      "metadata": {
        "colab": {
          "base_uri": "https://localhost:8080/",
          "height": 564
        },
        "id": "J3jC1LmuI_rJ",
        "outputId": "3a16b903-c278-4bf1-868e-4afb4e4f3633"
      },
      "outputs": [
        {
          "data": {
            "image/png": "[encoded data removed]",
            "text/plain": [
              "<Figure size 800x600 with 1 Axes>"
            ]
          },
          "metadata": {},
          "output_type": "display_data"
        }
      ],
      "source": [
        "from sklearn.cluster import KMeans\n",
        "import matplotlib.pyplot as plt\n",
        "\n",
        "# 1. Cluster with k = best_k computed before\n",
        "# best_k = editable\n",
        "g['ROLE'] = KMeans(n_clusters=best_k, random_state=0) \\\n",
        "                .fit_predict(X_pca)\n",
        "\n",
        "# 2. Plot UMAP colored by the 2 clusters\n",
        "plt.figure(figsize=(8,6))\n",
        "plt.scatter(g['UMAP1'], g['UMAP2'], c=g['ROLE'], cmap='tab10', alpha=0.7)\n",
        "plt.title(\"UMAP player landscape (k=3 clusters)\")\n",
        "plt.xlabel(\"UMAP1\")\n",
        "plt.ylabel(\"UMAP2\")\n",
        "plt.show()"
      ]
    },
    {
      "cell_type": "code",
      "execution_count": null,
      "metadata": {
        "colab": {
          "base_uri": "https://localhost:8080/"
        },
        "id": "0uv9A90vJu1t",
        "outputId": "d3cb6ea4-c967-4e08-ccd3-a2096315e5e3"
      },
      "outputs": [
        {
          "name": "stdout",
          "output_type": "stream",
          "text": [
            "Average stats per cluster:\n",
            "           PPP        eFG        TS        OE        EPS      USG%       PS%  \\\n",
            "ROLE                                                                           \n",
            "0     0.859089  56.182163  0.522455  0.637948  86.208945  0.183323  0.438082   \n",
            "1     0.848227  64.335440  0.499347  0.467286  87.092651  0.207676  0.374123   \n",
            "2     0.585667  14.186808  0.391308  0.425490  17.760113  0.141634  0.225021   \n",
            "\n",
            "           RTL  F1 Plays%  F2 Plays%  ...      PPT1      PPT2      PPT3  \\\n",
            "ROLE                                  ...                                 \n",
            "0     0.303898   0.133715   0.593292  ...  0.557174  1.060756  0.505818   \n",
            "1     0.201605   0.088706   0.376485  ...  0.693743  0.924219  0.914780   \n",
            "2     0.171316   0.075379   0.363245  ...  0.441597  0.758040  0.552781   \n",
            "\n",
            "        AS_100    TO_100    RO_100    RD_100   ROB_100    FC_100    FR_100  \n",
            "ROLE                                                                        \n",
            "0     0.109620  0.176972  0.232875  0.405963  0.085175  0.326679  0.264640  \n",
            "1     0.165318  0.151113  0.093828  0.253501  0.097793  0.225982  0.199545  \n",
            "2     0.218338  0.239022  0.133684  0.301302  0.110580  0.460097  0.197969  \n",
            "\n",
            "[3 rows x 25 columns]\n",
            "\n",
            "Prototype player per cluster:\n",
            "                      PLAYER       PPP        eFG        TS        OE  \\\n",
            "ROLE                                                                    \n",
            "0               FROLOV, ILIA  0.867575  61.033835  0.522838  0.611940   \n",
            "1     TOLOSA OROPESA, DANIEL  0.873721  65.069277  0.494104  0.485437   \n",
            "2      VAL GUTIERREZ, SERGIO  0.628778  46.041379  0.397755  0.397196   \n",
            "\n",
            "            EPS      USG%       PS%       RTL  F1 Plays%  ...      PPT1  \\\n",
            "ROLE                                                      ...             \n",
            "0     99.746269  0.224693  0.428440  0.276772   0.121780  ...  0.615385   \n",
            "1     87.864078  0.169075  0.390012  0.188260   0.082835  ...  0.717949   \n",
            "2     51.238318  0.158288  0.297079  0.190096   0.083642  ...  0.641026   \n",
            "\n",
            "          PPT2      PPT3    AS_100    TO_100    RO_100    RD_100   ROB_100  \\\n",
            "ROLE                                                                         \n",
            "0     1.072165  0.750000  0.111773  0.170321  0.276772  0.526932  0.069193   \n",
            "1     0.913043  0.932432  0.168952  0.115852  0.091717  0.376521  0.082062   \n",
            "2     0.850000  0.553846  0.190096  0.209593  0.063365  0.233964  0.107233   \n",
            "\n",
            "        FC_100    FR_100  \n",
            "ROLE                      \n",
            "0     0.170321  0.244837  \n",
            "1     0.125507  0.168952  \n",
            "2     0.248586  0.219341  \n",
            "\n",
            "[3 rows x 26 columns]\n"
          ]
        }
      ],
      "source": [
        "import numpy as np\n",
        "import pandas as pd\n",
        "from sklearn.cluster import KMeans\n",
        "\n",
        "# — 1) Cluster centroids in PCA‑space  —\n",
        "kmeans = KMeans(n_clusters=best_k, random_state=0).fit(X_pca)\n",
        "centroids = kmeans.cluster_centers_\n",
        "\n",
        "# — 2) Compute feature‑means per ROLE  —\n",
        "cluster_means = g.groupby('ROLE')[feature_cols].mean()\n",
        "print(\"Average stats per cluster:\")\n",
        "print(cluster_means)\n",
        "\n",
        "# — 3) Find the prototype (nearest to centroid) for each ROLE  —\n",
        "prototypes = []\n",
        "for role in range(best_k):\n",
        "    # distances from every point in that role to the centroid\n",
        "    idxs = np.where(g['ROLE']==role)[0]\n",
        "    dists = np.linalg.norm(X_pca[idxs] - centroids[role], axis=1)\n",
        "    # pick the player with minimum distance\n",
        "    prot_idx = idxs[np.argmin(dists)]\n",
        "    prototypes.append({\n",
        "        'ROLE': role,\n",
        "        'PLAYER': g.at[prot_idx, 'JUGADOR'],\n",
        "        **{col: g.at[prot_idx, col] for col in feature_cols}\n",
        "    })\n",
        "\n",
        "prototypes_df = pd.DataFrame(prototypes).set_index('ROLE')\n",
        "print(\"\\nPrototype player per cluster:\")\n",
        "print(prototypes_df)\n"
      ]
    },
    {
      "cell_type": "code",
      "execution_count": null,
      "metadata": {
        "id": "2TwsgkzbSqkX"
      },
      "outputs": [],
      "source": [
        "# 4) Configura tus pesos por cluster (ajusta valores según prioridad)\n",
        "weights_by_role = {\n",
        "    0: {   # “Interior”\n",
        "        'F2 Plays%':  0.25,   # mid‑range volume\n",
        "        'PPT2':       0.20,   # eficiencia en T2\n",
        "        'PS%':        0.15,   # % jugadas acabadas en puntos\n",
        "        'OE':         0.10,   # creación eficiente\n",
        "        'RO_100':     0.15,   # rebote ofensivo\n",
        "        'RD_100':     0.10,   # rebote defensivo\n",
        "        'USG%':       0.05,   # uso ligero como peso\n",
        "       'TO_100':      -0.10    # penaliza pérdidas\n",
        "    },\n",
        "    1: {   # “Tirador”\n",
        "        'F3 Plays%':  0.30,   # volumen de triples\n",
        "        'PPT3':       0.25,   # eficiencia en T3\n",
        "        'eFG':        0.15,   # eficiencia global\n",
        "        'PS%':        0.10,   # % jugadas acabadas en puntos\n",
        "        'USG%':       0.15,   # uso moderado relevante\n",
        "        'EPS':        0.10,   # producción total\n",
        "        'TO_100':    -0.10    # pérdidas\n",
        "    },\n",
        "    2: {   # “Manejador”\n",
        "        'AS_100':     0.25,   # asistencias per‑100\n",
        "        'PS%':        0.20,   # eficiencia en generar puntos\n",
        "        'USG%':       0.05,   # apenas peso aquí\n",
        "        'ROB_100':    0.10,   # robos per‑100\n",
        "        'FR_100':     0.10,   # faltas recibidas\n",
        "        'EPS':        0.10,   # producción total\n",
        "        'OE':         0.05,   # eficiencia de creación\n",
        "       'TO_100':    -0.20,   # penaliza pérdidas elevadas\n",
        "       'FC_100':    -0.05    # penaliza faltas cometidas\n",
        "    }\n",
        "}\n",
        "\n",
        "# 5) Calcula COMPOSITE\n",
        "def compute_composite(row):\n",
        "    w = weights_by_role[row['ROLE']]\n",
        "    return sum(row[feat] * weight for feat, weight in w.items())\n",
        "\n",
        "g['COMPOSITE'] = g.apply(compute_composite, axis=1)\n",
        "\n",
        "# 6) Top‑5 vecinos “similares y mejores”\n",
        "from sklearn.metrics.pairwise import cosine_distances\n",
        "\n",
        "# recalcula distancias en el espacio PCA\n",
        "dist = cosine_distances(X_pca)\n",
        "\n",
        "def top_replacements(player_name, k=5):\n",
        "    idx = g.index[g['JUGADOR']==player_name][0]\n",
        "    # ordena por similitud (dist más pequeña)\n",
        "    nn = dist[idx].argsort()[1:k+1]\n",
        "    df = g.loc[nn, ['JUGADOR', 'Local','ROLE','COMPOSITE']].copy()\n",
        "    df['SIMILARITY'] = 1 - dist[idx][nn]\n",
        "    df['BETTER']     = df['COMPOSITE'] > g.at[idx,'COMPOSITE']\n",
        "    return df.sort_values('SIMILARITY', ascending=False)"
      ]
    },
    {
      "cell_type": "code",
      "execution_count": null,
      "metadata": {
        "colab": {
          "base_uri": "https://localhost:8080/"
        },
        "id": "FgySbXNwTS0T",
        "outputId": "f65b5328-f3af-4670-97e9-b5ab384fe066"
      },
      "outputs": [
        {
          "name": "stdout",
          "output_type": "stream",
          "text": [
            "AYALA AYLLÓN, JOJSÉ LUIS\n",
            "ROL:  Interior\n",
            "COMPOSICIÓN:  0.5220936485145006\n",
            "Top‑5 reemplazos para AYALA AYLLÓN, JOJSÉ LUIS , que pertenece al cluster:\n",
            "                       JUGADOR                  Local  ROLE  COMPOSITE  \\\n",
            "264        PEREZ SANCHEZ, HUGO   FLEXICAR FUENLABRADA     0   0.514994   \n",
            "73    DELICADO DOMINGUEZ, ABEL        REAL CANOE N.C.     0   0.449832   \n",
            "54   CAULIN TORNERO, ALEJANDRO         EL VENTERO CBV     0   0.534724   \n",
            "38        BOROWSKI, SZYMON JAN  SUN CHLORELLA DRAGONS     0   0.496026   \n",
            "221     MOLINA HERRERA, MARCOS       NÁUTICO TENERIFE     0   0.522500   \n",
            "\n",
            "     SIMILARITY  BETTER  \n",
            "264    0.732580   False  \n",
            "73     0.729400   False  \n",
            "54     0.724353    True  \n",
            "38     0.717843   False  \n",
            "221    0.705669    True  \n"
          ]
        }
      ],
      "source": [
        "# Ejemplo: reemplazos\n",
        "player_name = \"AYALA AYLLÓN, JOJSÉ LUIS\"\n",
        "\n",
        "replacements = top_replacements(player_name, k=5)\n",
        "idx = g.index[g['JUGADOR']==player_name][0]\n",
        "print(player_name)\n",
        "rol = int(g.loc[idx, 'ROLE'])\n",
        "\n",
        "role_mapping = {0: 'Interior', 1: 'Tirador', 2: 'Manejador'} # Define the mapping dictionary\n",
        "print(\"ROL: \", role_mapping.get(rol, 'Unknown Role')) # Use dictionary lookup\n",
        "print(\"COMPOSICIÓN: \", g.loc[idx, 'COMPOSITE'])\n",
        "\n",
        "print(\"Top‑5 reemplazos para\", player_name, \", que pertenece al cluster:\")\n",
        "# Mostrar estadísticas cluster y composite de ILIA\n",
        "\n",
        "print(replacements)"
      ]
    },
    {
      "cell_type": "code",
      "execution_count": null,
      "metadata": {
        "colab": {
          "base_uri": "https://localhost:8080/"
        },
        "id": "9xCkmqBYQQjq",
        "outputId": "49bb6df0-ae36-4233-bcde-52c5f3699801"
      },
      "outputs": [
        {
          "name": "stdout",
          "output_type": "stream",
          "text": [
            "DataFrame 'g' downloaded as 'eba_b_features.csv'\n"
          ]
        }
      ],
      "source": [
        "# Descargar el dataframe g como eba_b_features.csv\n",
        "g.to_csv('eba_b_features.csv', index=False)\n",
        "print(\"DataFrame 'g' downloaded as 'eba_b_features.csv'\")"
      ]
    },
    {
      "cell_type": "code",
      "execution_count": null,
      "metadata": {
        "colab": {
          "base_uri": "https://localhost:8080/"
        },
        "id": "kL0y4MUHYupu",
        "outputId": "4a754cd9-0254-4066-99b9-6ba42fae5797"
      },
      "outputs": [
        {
          "name": "stdout",
          "output_type": "stream",
          "text": [
            "COMPOSITE min and max per ROLE:\n",
            "           min        max\n",
            "ROLE                     \n",
            "0     0.380391   1.062917\n",
            "1     2.108186  46.836571\n",
            "2    -0.116460   8.741549\n"
          ]
        }
      ],
      "source": [
        "# Show COMPOSITE min and max per ROLE in g\n",
        "print(\"COMPOSITE min and max per ROLE:\")\n",
        "print(g.groupby('ROLE')['COMPOSITE'].agg(['min', 'max']))"
      ]
    },
    {
      "cell_type": "code",
      "execution_count": null,
      "metadata": {
        "colab": {
          "base_uri": "https://localhost:8080/"
        },
        "id": "DaRVB54Xce3z",
        "outputId": "cf3ef7ed-8340-4efa-f248-e7bfdb4974db"
      },
      "outputs": [
        {
          "name": "stdout",
          "output_type": "stream",
          "text": [
            "neighbors.csv guardado con 1810 filas\n"
          ]
        }
      ],
      "source": [
        "import pandas as pd\n",
        "from sklearn.metrics.pairwise import cosine_distances\n",
        "\n",
        "# 2) Matriz de distancias coseno\n",
        "dist = cosine_distances(X_pca)\n",
        "\n",
        "rows = []\n",
        "for idx, player in enumerate(g['JUGADOR']):\n",
        "    # indices de vecinos ordenados (sin incluirse a sí mismo)\n",
        "    nn_idx = dist[idx].argsort()[1:6]   # 5 vecinos\n",
        "    for rank, n in enumerate(nn_idx, start=1):\n",
        "        rows.append({\n",
        "            'JUGADOR'   : player,                 # jugador objetivo\n",
        "            'RANK'      : rank,                   # 1‑5\n",
        "            'NEIGHBOR'  : g.at[n, 'JUGADOR'],     # vecino\n",
        "            'ROLE'      : g.at[n, 'ROLE'],\n",
        "            'COMPOSITE' : g.at[n, 'COMPOSITE'],\n",
        "            'SIMILARITY': 1 - dist[idx, n],       # coseno → 1‑dist\n",
        "            'BETTER'    : g.at[n, 'COMPOSITE'] > g.at[idx, 'COMPOSITE']\n",
        "        })\n",
        "\n",
        "# 3) Exportar a CSV\n",
        "neighbors = pd.DataFrame(rows)\n",
        "neighbors.to_csv('neighbors.csv', index=False)\n",
        "print(\"neighbors.csv guardado con\", len(neighbors), \"filas\")"
      ]
    }
  ],
  "metadata": {
    "colab": {
      "provenance": []
    },
    "kernelspec": {
      "display_name": "Python 3",
      "name": "python3"
    },
    "language_info": {
      "name": "python"
    }
  },
  "nbformat": 4,
  "nbformat_minor": 0
}
